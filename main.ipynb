{
 "cells": [
  {
   "cell_type": "markdown",
   "metadata": {},
   "source": [
    "Note: you will first need to organize the data to enable your analysis.\n",
    "\n",
    "For this assignment, you will provide a Jupyter notebook report of your exploratory data analysis.\n",
    "\n",
    "In your Jupyter notebook report, complete the following:\n",
    "\n",
    "Document data context and data sampling in markdown\n",
    "Explore and interpret data structure, descriptive statistics, data quality, and variable relationships\n",
    "Explore data visually with appropriate visualizations\n",
    "Discuss and implement strategies for Handling Missing Values, Removing Duplicates, and Handling Outliers\n",
    "Perform data transformation as appropriate\n",
    "Create at least one new feature and document your approach\n",
    "Perform a dimensionality reduction method on the data and discuss \n",
    "Include a discussion around data quality assessment, including data profiling, data completeness, data accuracy, data consistency, data integrity, and data lineage and provenance"
   ]
  },
  {
   "cell_type": "code",
   "execution_count": null,
   "metadata": {},
   "outputs": [],
   "source": [
    "print('Hello World')"
   ]
  }
 ],
 "metadata": {
  "language_info": {
   "name": "python"
  }
 },
 "nbformat": 4,
 "nbformat_minor": 2
}
